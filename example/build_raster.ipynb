{
 "cells": [
  {
   "cell_type": "code",
   "execution_count": null,
   "source": [],
   "outputs": [],
   "metadata": {}
  },
  {
   "cell_type": "code",
   "execution_count": 2,
   "source": [
    "import json, ast\r\n",
    "from os import stat\r\n",
    "import pdal\r\n",
    "\r\n"
   ],
   "outputs": [],
   "metadata": {}
  },
  {
   "cell_type": "code",
   "execution_count": 3,
   "source": [
    "def read_json(file_name):\r\n",
    "  '''\r\n",
    "  Read json file and return the string format\r\n",
    "  '''\r\n",
    "\r\n",
    "  try:\r\n",
    "    with open(file_name, 'r') as json_file:\r\n",
    "      data = json.loads(json_file.read())\r\n",
    "    return data\r\n",
    "\r\n",
    "  except:\r\n",
    "    return None\r\n",
    "\r\n"
   ],
   "outputs": [],
   "metadata": {}
  },
  {
   "cell_type": "code",
   "execution_count": 4,
   "source": [
    "def prepare_pipe(bound, us_state='IA_FullState'):\r\n",
    "  data = read_json('./iowa.json')\r\n",
    "  data['pipeline'][0]['bounds'] = bound\r\n",
    "  data['pipeline'][0]['filename'] = \"https://s3-us-west-2.amazonaws.com/usgs-lidar-public/IA_FullState/ept.json\"\r\n",
    "  print(\"data\")\r\n",
    "  return data\r\n"
   ],
   "outputs": [],
   "metadata": {}
  },
  {
   "cell_type": "code",
   "execution_count": 5,
   "source": [
    "\r\n",
    "def run_pipe(bound, us_state):\r\n",
    "  print(\"Run pipe\")\r\n",
    "  result = prepare_pipe(bound, us_state)\r\n",
    "  pipeline = pdal.Pipeline(json.dumps(result))\r\n",
    "  pipe_result  = pipeline.execute()\r\n",
    "  print(pipe_result)\r\n",
    "\r\n"
   ],
   "outputs": [],
   "metadata": {}
  },
  {
   "cell_type": "code",
   "execution_count": 6,
   "source": [
    "bound = str(([-10425171.940, -10423171.940], [5164494.710, 5166494.710]))\r\n",
    "state = 'IA_FullState'\r\n",
    "# data = read_json('./iowa.json')\r\n",
    "# bounds = data['pipeline'][0]['bounds']\r\n",
    "# result = prepare_pipe(bound)\r\n",
    "# print(result)\r\n",
    "run_pipe(bound, state)"
   ],
   "outputs": [
    {
     "output_type": "stream",
     "name": "stdout",
     "text": [
      "Run pipe\n",
      "data\n",
      "1399943\n"
     ]
    }
   ],
   "metadata": {}
  },
  {
   "cell_type": "markdown",
   "source": [
    "The output will be a file with the extension tif and the file with the extension laz."
   ],
   "metadata": {}
  }
 ],
 "metadata": {
  "orig_nbformat": 4,
  "language_info": {
   "name": "python",
   "version": "3.9.6",
   "mimetype": "text/x-python",
   "codemirror_mode": {
    "name": "ipython",
    "version": 3
   },
   "pygments_lexer": "ipython3",
   "nbconvert_exporter": "python",
   "file_extension": ".py"
  },
  "kernelspec": {
   "name": "python3",
   "display_name": "Python 3.9.6 64-bit ('pdalenv': conda)"
  },
  "interpreter": {
   "hash": "3266b547825843e7be8bb0c68a07759c2cf0babf00234fde1c145c8a4e9e4516"
  }
 },
 "nbformat": 4,
 "nbformat_minor": 2
}