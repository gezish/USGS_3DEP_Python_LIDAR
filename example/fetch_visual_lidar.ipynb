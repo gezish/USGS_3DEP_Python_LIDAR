{
 "cells": [
  {
   "cell_type": "markdown",
   "metadata": {},
   "source": [
    "## Import liberaries"
   ]
  },
  {
   "cell_type": "code",
   "execution_count": 60,
   "metadata": {},
   "outputs": [],
   "source": [
    "import laspy\n",
    "import open3d as o3d\n",
    "import numpy as np\n",
    "from shapely.geometry import Polygon, Point, mapping\n",
    "import geopandas as gpd\n",
    "import folium\n",
    "import matplotlib.pyplot as plt"
   ]
  },
  {
   "cell_type": "code",
   "execution_count": 2,
   "metadata": {},
   "outputs": [],
   "source": [
    "import sys, os\n",
    "sys.path.append(os.path.abspath(os.path.join('../scripts')))"
   ]
  },
  {
   "cell_type": "markdown",
   "metadata": {},
   "source": [
    "### Read samples"
   ]
  },
  {
   "cell_type": "code",
   "execution_count": 65,
   "metadata": {},
   "outputs": [],
   "source": [
    "pc_path = '.'\n",
    "las = '../data/ept-data/10-0-833-513.laz'\n",
    "las2 = laspy.read('../data/ept-data/10-0-833-513.laz')\n",
    "pc1 = laspy.read(os.path.join(pc_path,las))\n",
    "#las"
   ]
  },
  {
   "cell_type": "code",
   "execution_count": 57,
   "metadata": {},
   "outputs": [
    {
     "data": {
      "text/plain": [
       "array([[-1.11973473e+07,  3.96203758e+06,  6.43630000e+02],\n",
       "       [-1.11973475e+07,  3.96203656e+06,  6.43680000e+02],\n",
       "       [-1.11973476e+07,  3.96203561e+06,  6.43750000e+02],\n",
       "       ...,\n",
       "       [-1.11973979e+07,  3.96216274e+06,  6.36450000e+02],\n",
       "       [-1.11973981e+07,  3.96216185e+06,  6.36320000e+02],\n",
       "       [-1.11973979e+07,  3.96216864e+06,  6.36370000e+02]])"
      ]
     },
     "execution_count": 57,
     "metadata": {},
     "output_type": "execute_result"
    }
   ],
   "source": [
    "xyz = np.vstack((pc1.x, pc1.y, pc1.z)).transpose()\n",
    "xyz"
   ]
  },
  {
   "cell_type": "code",
   "execution_count": 58,
   "metadata": {},
   "outputs": [
    {
     "data": {
      "text/plain": [
       "(27029, 3)"
      ]
     },
     "execution_count": 58,
     "metadata": {},
     "output_type": "execute_result"
    }
   ],
   "source": [
    "xyz.shape"
   ]
  },
  {
   "cell_type": "code",
   "execution_count": 62,
   "metadata": {},
   "outputs": [
    {
     "data": {
      "text/plain": [
       "[<matplotlib.lines.Line2D at 0x20022a08730>]"
      ]
     },
     "execution_count": 62,
     "metadata": {},
     "output_type": "execute_result"
    },
    {
     "data": {
      "image/png": "[encoded data removed]",
      "text/plain": [
       "<Figure size 432x288 with 1 Axes>"
      ]
     },
     "metadata": {
      "needs_background": "light"
     },
     "output_type": "display_data"
    }
   ],
   "source": [
    "plt.plot(xyz[::1000,0],xyz[::1000,1], ',')"
   ]
  },
  {
   "cell_type": "markdown",
   "metadata": {},
   "source": [
    "#### Additional Info\n",
    "- It contains the las header, the point format, point count and vlrs. We can also call them individually to get a separate output for each of them like this"
   ]
  },
  {
   "cell_type": "code",
   "execution_count": 66,
   "metadata": {},
   "outputs": [
    {
     "data": {
      "text/plain": [
       "[<ExtraBytesVlr(extra bytes structs: 2)>, <GeoKeyDirectoryVlr(7 geo_keys)>, <GeoAsciiParamsVlr(['WGS 84 / Pseudo-Mercator|WGS 84|', ''])>]"
      ]
     },
     "execution_count": 66,
     "metadata": {},
     "output_type": "execute_result"
    }
   ],
   "source": [
    "las2.header\n",
    "las2.header.point_format\n",
    "las2.header.point_count\n",
    "las2.vlrs"
   ]
  },
  {
   "cell_type": "markdown",
   "metadata": {},
   "source": [
    "- see features of the ata points"
   ]
  },
  {
   "cell_type": "code",
   "execution_count": 67,
   "metadata": {},
   "outputs": [
    {
     "data": {
      "text/plain": [
       "['X',\n",
       " 'Y',\n",
       " 'Z',\n",
       " 'intensity',\n",
       " 'return_number',\n",
       " 'number_of_returns',\n",
       " 'scan_direction_flag',\n",
       " 'edge_of_flight_line',\n",
       " 'classification',\n",
       " 'synthetic',\n",
       " 'key_point',\n",
       " 'withheld',\n",
       " 'scan_angle_rank',\n",
       " 'user_data',\n",
       " 'point_source_id',\n",
       " 'gps_time',\n",
       " 'ClassFlags',\n",
       " 'OriginId']"
      ]
     },
     "execution_count": 67,
     "metadata": {},
     "output_type": "execute_result"
    }
   ],
   "source": [
    "list(las2.point_format.dimension_names)"
   ]
  },
  {
   "cell_type": "markdown",
   "metadata": {},
   "source": [
    "- We have X, Y, and Z for the point data, intensity, classification, GPS time, and some other essential dimensions. Let us, for example, see some of these dimensions."
   ]
  },
  {
   "cell_type": "code",
   "execution_count": 75,
   "metadata": {},
   "outputs": [
    {
     "name": "stdout",
     "output_type": "stream",
     "text": [
      "x= [-6834730 -6834747 -6834762 ... -6839794 -6839812 -6839794]\n",
      "intensity= [314 324 269 ... 144 249 290]\n",
      "coordinate = [1.99824630e+08 1.99824630e+08 1.99824630e+08 ... 1.99826321e+08\n",
      " 1.99826321e+08 1.99826321e+08]\n"
     ]
    }
   ],
   "source": [
    "print('x=',  las2.X)\n",
    "print('intensity=', las2.intensity)\n",
    "print('coordinate =', las2.gps_time)"
   ]
  },
  {
   "cell_type": "markdown",
   "metadata": {},
   "source": [
    "- Classification is another essential dimension that you can call with `las.classification` that will provide an array of numbers. "
   ]
  },
  {
   "cell_type": "code",
   "execution_count": 76,
   "metadata": {},
   "outputs": [
    {
     "data": {
      "text/plain": [
       "{1, 2}"
      ]
     },
     "execution_count": 76,
     "metadata": {},
     "output_type": "execute_result"
    }
   ],
   "source": [
    "# classes\n",
    "classes = set(list(las2.classification))\n",
    "classes"
   ]
  },
  {
   "cell_type": "markdown",
   "metadata": {},
   "source": [
    "- we have only two classes in this data i.e. 1. `Unassigned` and 2. `Ground`\n",
    "- for more https://desktop.arcgis.com/en/arcmap/latest/manage-data/las-dataset/lidar-point-classification.htm"
   ]
  },
  {
   "cell_type": "markdown",
   "metadata": {},
   "source": [
    "### Creating, Filtering, and Writing Point Cloud Data\n",
    "- The output is a 3-dimensional array and looks like this."
   ]
  },
  {
   "cell_type": "code",
   "execution_count": 70,
   "metadata": {},
   "outputs": [
    {
     "data": {
      "text/plain": [
       "array([[-6834730,  4292758,    14563],\n",
       "       [-6834747,  4292656,    14568],\n",
       "       [-6834762,  4292561,    14575],\n",
       "       ...,\n",
       "       [-6839794,  4305274,    13845],\n",
       "       [-6839812,  4305185,    13832],\n",
       "       [-6839794,  4305864,    13837]])"
      ]
     },
     "execution_count": 70,
     "metadata": {},
     "output_type": "execute_result"
    }
   ],
   "source": [
    "point_data = np.stack([las2.X, las2.Y, las2.Z], axis=0).transpose((1, 0))\n",
    "point_data\n"
   ]
  },
  {
   "cell_type": "code",
   "execution_count": 73,
   "metadata": {},
   "outputs": [],
   "source": [
    "ground = laspy.create(point_format=las2.header.point_format, file_version=las2.header.version)\n",
    "ground.points = las2.points[las2.classification == 2]"
   ]
  },
  {
   "cell_type": "markdown",
   "metadata": {},
   "source": [
    "### 3D Point Cloud Visualization\n",
    "- in this visualizationI use open3d"
   ]
  },
  {
   "cell_type": "code",
   "execution_count": 74,
   "metadata": {},
   "outputs": [],
   "source": [
    "geom = o3d.geometry.PointCloud()\n",
    "geom.points = o3d.utility.Vector3dVector(point_data)\n",
    "o3d.visualization.draw_geometries([geom])"
   ]
  },
  {
   "cell_type": "code",
   "execution_count": 26,
   "metadata": {},
   "outputs": [
    {
     "name": "stderr",
     "output_type": "stream",
     "text": [
      "warning: LF will be replaced by CRLF in example/fetch_visual_lidar.ipynb.\n",
      "The file will have its original line endings in your working directory\n"
     ]
    },
    {
     "name": "stdout",
     "output_type": "stream",
     "text": [
      "[update_a fffb1d0] visualization using open3d\n",
      " 1 file changed, 696 insertions(+), 455 deletions(-)\n",
      " rewrite example/fetch_visual_lidar.ipynb (96%)\n"
     ]
    },
    {
     "name": "stderr",
     "output_type": "stream",
     "text": [
      "To https://github.com/gezish/USGS_3DEP_Python_LIDAR.git\n",
      "   0aad06f..fffb1d0  update_a -> update_a\n"
     ]
    }
   ],
   "source": [
    "!git add fetch_visual_lidar.ipynb\n",
    "!git commit -m \"visualization using open3d\"\n",
    "!git push"
   ]
  },
  {
   "cell_type": "code",
   "execution_count": 28,
   "metadata": {},
   "outputs": [],
   "source": [
    "# Generating a data frame given a CRS format and pipe\n",
    "\n",
    "def generate_geo_df(pipe, epsg):\n",
    "    try:\n",
    "        cloud_points = []\n",
    "        elevations =[]\n",
    "        geometry_points=[]\n",
    "        for row in pipe.arrays[0]:\n",
    "            lst = row.tolist()[-3:]\n",
    "            cloud_points.append(lst)\n",
    "            elevations.append(lst[2])\n",
    "            point = Point(lst[0], lst[1])\n",
    "            geometry_points.append(point)\n",
    "        geodf = gpd.GeoDataFrame(columns=[\"elevation\", \"geometry\"])\n",
    "        geodf['elevation'] = elevations\n",
    "        geodf['geometry'] = geometry_points\n",
    "        geodf = geodf.set_geometry(\"geometry\")\n",
    "        geodf.set_crs(epsg = epsg, inplace=True)\n",
    "        return geodf\n",
    "    except RuntimeError as e:\n",
    "        print(e)"
   ]
  },
  {
   "cell_type": "code",
   "execution_count": 30,
   "metadata": {},
   "outputs": [],
   "source": [
    "def generate_polygon(coor, epsg):\n",
    "    polygon_g = Polygon(coor)\n",
    "    crs = {'init': 'epsg:'+str(epsg)}\n",
    "    polygon = gpd.GeoDataFrame(index=[0], crs=crs, geometry=[polygon_g])       \n",
    "    return polygon"
   ]
  },
  {
   "cell_type": "code",
   "execution_count": 47,
   "metadata": {},
   "outputs": [
    {
     "name": "stderr",
     "output_type": "stream",
     "text": [
      "C:\\Users\\user\\AppData\\Roaming\\Python\\Python39\\site-packages\\pyproj\\crs\\crs.py:130: FutureWarning: '+init=<authority>:<code>' syntax is deprecated. '<authority>:<code>' is the preferred initialization method. When making the change, be mindful of axis order changes: https://pyproj4.github.io/pyproj/stable/gotchas.html#axis-order-changes-in-proj-6\n",
      "  in_crs_string = _prepare_from_proj_string(in_crs_string)\n"
     ]
    }
   ],
   "source": [
    "# Co-ordinates for the polygon and generating the polygon from the given co-ordinate\n",
    "\n",
    "coordinates = [\n",
    "    [-93.756055, 41.918115],\n",
    "    [-93.756155, 41.918215],\n",
    "    [-93.756396, 41.918475],\n",
    "    [-93.755955, 41.918300],\n",
    "    [-93.755795, 41.918000],\n",
    "]\n",
    "\n",
    "\n",
    "polygon = generate_polygon(coordinates, 4326)"
   ]
  },
  {
   "cell_type": "code",
   "execution_count": 48,
   "metadata": {},
   "outputs": [
    {
     "data": {
      "text/html": [
       "<div style=\"width:100%;\"><div style=\"position:relative;width:100%;height:0;padding-bottom:60%;\"><span style=\"color:#565656\">Make this Notebook Trusted to load map: File -> Trust Notebook</span><iframe srcdoc=\"&lt;!DOCTYPE html&gt;\n",
       "&lt;head&gt;    \n",
       "    &lt;meta http-equiv=&quot;content-type&quot; content=&quot;text/html; charset=UTF-8&quot; /&gt;\n",
       "    \n",
       "        &lt;script&gt;\n",
       "            L_NO_TOUCH = false;\n",
       "            L_DISABLE_3D = false;\n",
       "        &lt;/script&gt;\n",
       "    \n",
       "    &lt;style&gt;html, body {width: 100%;height: 100%;margin: 0;padding: 0;}&lt;/style&gt;\n",
       "    &lt;style&gt;#map {position:absolute;top:0;bottom:0;right:0;left:0;}&lt;/style&gt;\n",
       "    &lt;script src=&quot;https://cdn.jsdelivr.net/npm/leaflet@1.6.0/dist/leaflet.js&quot;&gt;&lt;/script&gt;\n",
       "    &lt;script src=&quot;https://code.jquery.com/jquery-1.12.4.min.js&quot;&gt;&lt;/script&gt;\n",
       "    &lt;script src=&quot;https://maxcdn.bootstrapcdn.com/bootstrap/3.2.0/js/bootstrap.min.js&quot;&gt;&lt;/script&gt;\n",
       "    &lt;script src=&quot;https://cdnjs.cloudflare.com/ajax/libs/Leaflet.awesome-markers/2.0.2/leaflet.awesome-markers.js&quot;&gt;&lt;/script&gt;\n",
       "    &lt;link rel=&quot;stylesheet&quot; href=&quot;https://cdn.jsdelivr.net/npm/leaflet@1.6.0/dist/leaflet.css&quot;/&gt;\n",
       "    &lt;link rel=&quot;stylesheet&quot; href=&quot;https://maxcdn.bootstrapcdn.com/bootstrap/3.2.0/css/bootstrap.min.css&quot;/&gt;\n",
       "    &lt;link rel=&quot;stylesheet&quot; href=&quot;https://maxcdn.bootstrapcdn.com/bootstrap/3.2.0/css/bootstrap-theme.min.css&quot;/&gt;\n",
       "    &lt;link rel=&quot;stylesheet&quot; href=&quot;https://maxcdn.bootstrapcdn.com/font-awesome/4.6.3/css/font-awesome.min.css&quot;/&gt;\n",
       "    &lt;link rel=&quot;stylesheet&quot; href=&quot;https://cdnjs.cloudflare.com/ajax/libs/Leaflet.awesome-markers/2.0.2/leaflet.awesome-markers.css&quot;/&gt;\n",
       "    &lt;link rel=&quot;stylesheet&quot; href=&quot;https://cdn.jsdelivr.net/gh/python-visualization/folium/folium/templates/leaflet.awesome.rotate.min.css&quot;/&gt;\n",
       "    \n",
       "            &lt;meta name=&quot;viewport&quot; content=&quot;width=device-width,\n",
       "                initial-scale=1.0, maximum-scale=1.0, user-scalable=no&quot; /&gt;\n",
       "            &lt;style&gt;\n",
       "                #map_ac533fef8fd24ea6c0fed8710b22d380 {\n",
       "                    position: relative;\n",
       "                    width: 100.0%;\n",
       "                    height: 100.0%;\n",
       "                    left: 0.0%;\n",
       "                    top: 0.0%;\n",
       "                }\n",
       "            &lt;/style&gt;\n",
       "        \n",
       "&lt;/head&gt;\n",
       "&lt;body&gt;    \n",
       "    \n",
       "            &lt;div class=&quot;folium-map&quot; id=&quot;map_ac533fef8fd24ea6c0fed8710b22d380&quot; &gt;&lt;/div&gt;\n",
       "        \n",
       "&lt;/body&gt;\n",
       "&lt;script&gt;    \n",
       "    \n",
       "            var map_ac533fef8fd24ea6c0fed8710b22d380 = L.map(\n",
       "                &quot;map_ac533fef8fd24ea6c0fed8710b22d380&quot;,\n",
       "                {\n",
       "                    center: [41.918115, -93.756055],\n",
       "                    crs: L.CRS.EPSG3857,\n",
       "                    zoom: 20,\n",
       "                    zoomControl: true,\n",
       "                    preferCanvas: false,\n",
       "                }\n",
       "            );\n",
       "\n",
       "            \n",
       "\n",
       "        \n",
       "    \n",
       "            var tile_layer_95418d7c7e79ac5a5dd0a5ba5ef246b2 = L.tileLayer(\n",
       "                &quot;https://cartodb-basemaps-{s}.global.ssl.fastly.net/light_all/{z}/{x}/{y}.png&quot;,\n",
       "                {&quot;attribution&quot;: &quot;\\u0026copy; \\u003ca href=\\&quot;http://www.openstreetmap.org/copyright\\&quot;\\u003eOpenStreetMap\\u003c/a\\u003e contributors \\u0026copy; \\u003ca href=\\&quot;http://cartodb.com/attributions\\&quot;\\u003eCartoDB\\u003c/a\\u003e, CartoDB \\u003ca href =\\&quot;http://cartodb.com/attributions\\&quot;\\u003eattributions\\u003c/a\\u003e&quot;, &quot;detectRetina&quot;: false, &quot;maxNativeZoom&quot;: 18, &quot;maxZoom&quot;: 18, &quot;minZoom&quot;: 0, &quot;noWrap&quot;: false, &quot;opacity&quot;: 1, &quot;subdomains&quot;: &quot;abc&quot;, &quot;tms&quot;: false}\n",
       "            ).addTo(map_ac533fef8fd24ea6c0fed8710b22d380);\n",
       "        \n",
       "    \n",
       "\n",
       "        function geo_json_62bdd1546caeb486139061aea0b123e0_onEachFeature(feature, layer) {\n",
       "            layer.on({\n",
       "            });\n",
       "        };\n",
       "        var geo_json_62bdd1546caeb486139061aea0b123e0 = L.geoJson(null, {\n",
       "                onEachFeature: geo_json_62bdd1546caeb486139061aea0b123e0_onEachFeature,\n",
       "            \n",
       "        });\n",
       "\n",
       "        function geo_json_62bdd1546caeb486139061aea0b123e0_add (data) {\n",
       "            geo_json_62bdd1546caeb486139061aea0b123e0\n",
       "                .addData(data)\n",
       "                .addTo(map_ac533fef8fd24ea6c0fed8710b22d380);\n",
       "        }\n",
       "            geo_json_62bdd1546caeb486139061aea0b123e0_add({&quot;bbox&quot;: [-93.756396, 41.918, -93.755795, 41.918475], &quot;features&quot;: [{&quot;bbox&quot;: [-93.756396, 41.918, -93.755795, 41.918475], &quot;geometry&quot;: {&quot;coordinates&quot;: [[[-93.756055, 41.918115], [-93.756155, 41.918215], [-93.756396, 41.918475], [-93.755955, 41.9183], [-93.755795, 41.918], [-93.756055, 41.918115]]], &quot;type&quot;: &quot;Polygon&quot;}, &quot;id&quot;: &quot;0&quot;, &quot;properties&quot;: {}, &quot;type&quot;: &quot;Feature&quot;}], &quot;type&quot;: &quot;FeatureCollection&quot;});\n",
       "\n",
       "        \n",
       "    \n",
       "                var lat_lng_popup_398ad0170704c2e9da908ecb58700ad0 = L.popup();\n",
       "                function latLngPop(e) {\n",
       "                    lat_lng_popup_398ad0170704c2e9da908ecb58700ad0\n",
       "                        .setLatLng(e.latlng)\n",
       "                        .setContent(&quot;Latitude: &quot; + e.latlng.lat.toFixed(4) +\n",
       "                                    &quot;&lt;br&gt;Longitude: &quot; + e.latlng.lng.toFixed(4))\n",
       "                        .openOn(map_ac533fef8fd24ea6c0fed8710b22d380);\n",
       "                    }\n",
       "                map_ac533fef8fd24ea6c0fed8710b22d380.on(&#x27;click&#x27;, latLngPop);\n",
       "            \n",
       "&lt;/script&gt;\" style=\"position:absolute;width:100%;height:100%;left:0;top:0;border:none !important;\" allowfullscreen webkitallowfullscreen mozallowfullscreen></iframe></div></div>"
      ],
      "text/plain": [
       "<folium.folium.Map at 0x2001be949a0>"
      ]
     },
     "execution_count": 48,
     "metadata": {},
     "output_type": "execute_result"
    }
   ],
   "source": [
    "def show_on_map(polygon, zoom):\n",
    "    #region selection\n",
    "    poly = mapping((polygon.iloc[:,0][0]))\n",
    "    tmp = poly['coordinates'][0][0]\n",
    "    anchor = [tmp[1], tmp[0]]\n",
    "    map = folium.Map(anchor,zoom_start=zoom, tiles='cartodbpositron')\n",
    "    folium.GeoJson(polygon).add_to(map)\n",
    "    folium.LatLngPopup().add_to(map)\n",
    "    return map\n",
    "\n",
    "show_on_map(polygon, 20)"
   ]
  },
  {
   "cell_type": "code",
   "execution_count": 49,
   "metadata": {},
   "outputs": [
    {
     "ename": "NameError",
     "evalue": "name 'gdf' is not defined",
     "output_type": "error",
     "traceback": [
      "\u001b[1;31m---------------------------------------------------------------------------\u001b[0m",
      "\u001b[1;31mNameError\u001b[0m                                 Traceback (most recent call last)",
      "\u001b[1;32mc:\\Users\\user\\10-Accademy\\W7\\USGS_3DEP_Python_LIDAR\\example\\fetch_visual_lidar.ipynb Cell 18'\u001b[0m in \u001b[0;36m<cell line: 1>\u001b[1;34m()\u001b[0m\n\u001b[1;32m----> <a href='vscode-notebook-cell:/c%3A/Users/user/10-Accademy/W7/USGS_3DEP_Python_LIDAR/example/fetch_visual_lidar.ipynb#ch0000007?line=0'>1</a>\u001b[0m df \u001b[39m=\u001b[39m gdf[\u001b[39m0\u001b[39m][\u001b[39m'\u001b[39m\u001b[39mgeo_data\u001b[39m\u001b[39m'\u001b[39m]\n",
      "\u001b[1;31mNameError\u001b[0m: name 'gdf' is not defined"
     ]
    }
   ],
   "source": [
    "df = gdf[0]['geo_data']"
   ]
  },
  {
   "cell_type": "markdown",
   "metadata": {},
   "source": []
  }
 ],
 "metadata": {
  "kernelspec": {
   "display_name": "Python 3 (ipykernel)",
   "language": "python",
   "name": "python3"
  },
  "language_info": {
   "codemirror_mode": {
    "name": "ipython",
    "version": 3
   },
   "file_extension": ".py",
   "mimetype": "text/x-python",
   "name": "python",
   "nbconvert_exporter": "python",
   "pygments_lexer": "ipython3",
   "version": "3.9.12"
  },
  "vscode": {
   "interpreter": {
    "hash": "02583d2a41429db8f929c3bdc03bf7a9ecf6726f01e4eaed61ed388e4c32b860"
   }
  }
 },
 "nbformat": 4,
 "nbformat_minor": 2
}
